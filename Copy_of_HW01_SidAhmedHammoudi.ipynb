{
  "cells": [
    {
      "cell_type": "markdown",
      "source": [
        "# ***Sid Ahmed Hammoudi Homework O1***"
      ],
      "metadata": {
        "id": "8rKMFcym6Pgd"
      }
    },
    {
      "cell_type": "code",
      "source": [
        "import numpy as np\n",
        "import matplotlib.pyplot as plt"
      ],
      "metadata": {
        "id": "MhgYZaII9q_R"
      },
      "execution_count": 1,
      "outputs": []
    },
    {
      "cell_type": "markdown",
      "metadata": {
        "id": "AihO7WSx5OLq"
      },
      "source": [
        "***Problem 2***\n"
      ]
    },
    {
      "cell_type": "code",
      "execution_count": 2,
      "metadata": {
        "id": "-FAusj5-5OLr"
      },
      "outputs": [],
      "source": [
        "# Defining list a\n",
        "list_a = [3, 4, 6, 10, 39, 87, 12, 54]"
      ]
    },
    {
      "cell_type": "markdown",
      "metadata": {
        "id": "pQWFYgN_5OLr"
      },
      "source": [
        "2.(a) finding maximum, minimum, and summation number\n"
      ]
    },
    {
      "cell_type": "code",
      "execution_count": 3,
      "metadata": {
        "colab": {
          "base_uri": "https://localhost:8080/"
        },
        "id": "-NbCpHpm5OLr",
        "outputId": "f05648c3-3d24-453f-b842-2de769b0a5fb"
      },
      "outputs": [
        {
          "output_type": "stream",
          "name": "stdout",
          "text": [
            "Maximum: 87\n",
            "Minimum: 3\n",
            "Summation: 215\n"
          ]
        }
      ],
      "source": [
        "# finding maximum, minimum, and summation number\n",
        "maxa = max(list_a)\n",
        "print(\"Maximum:\", maxa)\n",
        "\n",
        "mina = min(list_a)\n",
        "print(\"Minimum:\", mina)\n",
        "\n",
        "suma = sum(list_a)\n",
        "print(\"Summation:\", suma)"
      ]
    },
    {
      "cell_type": "markdown",
      "metadata": {
        "id": "rP7QZcby5OLs"
      },
      "source": [
        "2.(b) Sort the list in ascending order"
      ]
    },
    {
      "cell_type": "code",
      "execution_count": 4,
      "metadata": {
        "colab": {
          "base_uri": "https://localhost:8080/"
        },
        "id": "pfwuRhwI5OLs",
        "outputId": "0dcff68b-cdd0-40b5-aa85-638307948fa6"
      },
      "outputs": [
        {
          "output_type": "stream",
          "name": "stdout",
          "text": [
            "[3, 4, 6, 10, 12, 39, 54, 87]\n"
          ]
        }
      ],
      "source": [
        "# (b) Sort the list in ascending order\n",
        "sort_a = sorted(list_a)\n",
        "print(sort_a)"
      ]
    },
    {
      "cell_type": "markdown",
      "metadata": {
        "id": "EEUpdx6r5OLs"
      },
      "source": [
        "2.(c) A loop to print each element in list_a"
      ]
    },
    {
      "cell_type": "code",
      "execution_count": 5,
      "metadata": {
        "colab": {
          "base_uri": "https://localhost:8080/"
        },
        "id": "n8QPOCrt5OLs",
        "outputId": "e55894d0-f2af-4a0c-bf2e-c8295f9e1591"
      },
      "outputs": [
        {
          "output_type": "stream",
          "name": "stdout",
          "text": [
            "3\n",
            "4\n",
            "6\n",
            "10\n",
            "39\n",
            "87\n",
            "12\n",
            "54\n"
          ]
        }
      ],
      "source": [
        "for element in list_a:\n",
        "    print(element)"
      ]
    },
    {
      "cell_type": "markdown",
      "source": [
        "\n",
        "***Problem 3***\n"
      ],
      "metadata": {
        "id": "Prx2aTAd5e1D"
      }
    },
    {
      "cell_type": "code",
      "source": [
        "#3.a  Function for prime numbers\n",
        "def primenum(n):\n",
        "    if n < 2:\n",
        "        return False\n",
        "    for i in range(2, n):\n",
        "        if n % i == 0:\n",
        "            return False\n",
        "    return True"
      ],
      "metadata": {
        "id": "6-4iwss451TK"
      },
      "execution_count": 6,
      "outputs": []
    },
    {
      "cell_type": "code",
      "source": [
        "# (b) Find all prime numbers below 100\n",
        "primenumbers_under100 = [num for num in range(2, 100) if primenum(num)]\n",
        "print(\"Prime numbers under 100:\", primenumbers_under100)"
      ],
      "metadata": {
        "colab": {
          "base_uri": "https://localhost:8080/"
        },
        "id": "xfi-LwfP6fx8",
        "outputId": "9dc9a1c1-3a1f-44cc-c523-05904af4e5c4"
      },
      "execution_count": 7,
      "outputs": [
        {
          "output_type": "stream",
          "name": "stdout",
          "text": [
            "Prime numbers under 100: [2, 3, 5, 7, 11, 13, 17, 19, 23, 29, 31, 37, 41, 43, 47, 53, 59, 61, 67, 71, 73, 79, 83, 89, 97]\n"
          ]
        }
      ]
    },
    {
      "cell_type": "code",
      "source": [
        "# (c) a function that finds prime numbers bellow n\n",
        "def primenumbersundern(n):\n",
        "    return [num for num in range(2, n) if primenum(num)]"
      ],
      "metadata": {
        "id": "Vp5l0GOa6pgb"
      },
      "execution_count": 8,
      "outputs": []
    },
    {
      "cell_type": "code",
      "source": [
        "# (d) a function that finds prime numbers bellow 1000\n",
        "primesunder1000 = primenumbersundern(1000)\n",
        "print(\"Prime numbers below 1000:\", primesunder1000)"
      ],
      "metadata": {
        "colab": {
          "base_uri": "https://localhost:8080/"
        },
        "id": "xOfNtFp06taF",
        "outputId": "519005dc-e452-4ba8-edc3-dda96120a948"
      },
      "execution_count": 9,
      "outputs": [
        {
          "output_type": "stream",
          "name": "stdout",
          "text": [
            "Prime numbers below 1000: [2, 3, 5, 7, 11, 13, 17, 19, 23, 29, 31, 37, 41, 43, 47, 53, 59, 61, 67, 71, 73, 79, 83, 89, 97, 101, 103, 107, 109, 113, 127, 131, 137, 139, 149, 151, 157, 163, 167, 173, 179, 181, 191, 193, 197, 199, 211, 223, 227, 229, 233, 239, 241, 251, 257, 263, 269, 271, 277, 281, 283, 293, 307, 311, 313, 317, 331, 337, 347, 349, 353, 359, 367, 373, 379, 383, 389, 397, 401, 409, 419, 421, 431, 433, 439, 443, 449, 457, 461, 463, 467, 479, 487, 491, 499, 503, 509, 521, 523, 541, 547, 557, 563, 569, 571, 577, 587, 593, 599, 601, 607, 613, 617, 619, 631, 641, 643, 647, 653, 659, 661, 673, 677, 683, 691, 701, 709, 719, 727, 733, 739, 743, 751, 757, 761, 769, 773, 787, 797, 809, 811, 821, 823, 827, 829, 839, 853, 857, 859, 863, 877, 881, 883, 887, 907, 911, 919, 929, 937, 941, 947, 953, 967, 971, 977, 983, 991, 997]\n"
          ]
        }
      ]
    },
    {
      "cell_type": "markdown",
      "source": [
        "***Problem 4***"
      ],
      "metadata": {
        "id": "dZr02lfo9ZZ_"
      }
    },
    {
      "cell_type": "code",
      "source": [
        "# (a) Define a function to generate a 3D (n×3×3) with data\n",
        "def generate_3d_array(n, data=\"ones\"):\n",
        "    if data == \"zeros\":\n",
        "        return np.zeros((n, 3, 3))\n",
        "    elif data == \"random\":\n",
        "        return np.random.randint(1, 101, size=(n, 3, 3))"
      ],
      "metadata": {
        "id": "ZtFpFuae9hUX"
      },
      "execution_count": 10,
      "outputs": []
    },
    {
      "cell_type": "code",
      "source": [
        "# (b) for n=10 , populate with zeroes\n",
        "arrayofzeros = generate_3d_array(10, \"zeros\")\n",
        "print(arrayofzeros)"
      ],
      "metadata": {
        "colab": {
          "base_uri": "https://localhost:8080/"
        },
        "id": "jy583rJwCoSe",
        "outputId": "91eef3ec-26be-43a6-b8b2-78cf40502d81"
      },
      "execution_count": 11,
      "outputs": [
        {
          "output_type": "stream",
          "name": "stdout",
          "text": [
            "[[[0. 0. 0.]\n",
            "  [0. 0. 0.]\n",
            "  [0. 0. 0.]]\n",
            "\n",
            " [[0. 0. 0.]\n",
            "  [0. 0. 0.]\n",
            "  [0. 0. 0.]]\n",
            "\n",
            " [[0. 0. 0.]\n",
            "  [0. 0. 0.]\n",
            "  [0. 0. 0.]]\n",
            "\n",
            " [[0. 0. 0.]\n",
            "  [0. 0. 0.]\n",
            "  [0. 0. 0.]]\n",
            "\n",
            " [[0. 0. 0.]\n",
            "  [0. 0. 0.]\n",
            "  [0. 0. 0.]]\n",
            "\n",
            " [[0. 0. 0.]\n",
            "  [0. 0. 0.]\n",
            "  [0. 0. 0.]]\n",
            "\n",
            " [[0. 0. 0.]\n",
            "  [0. 0. 0.]\n",
            "  [0. 0. 0.]]\n",
            "\n",
            " [[0. 0. 0.]\n",
            "  [0. 0. 0.]\n",
            "  [0. 0. 0.]]\n",
            "\n",
            " [[0. 0. 0.]\n",
            "  [0. 0. 0.]\n",
            "  [0. 0. 0.]]\n",
            "\n",
            " [[0. 0. 0.]\n",
            "  [0. 0. 0.]\n",
            "  [0. 0. 0.]]]\n"
          ]
        }
      ]
    },
    {
      "cell_type": "code",
      "source": [
        "# (c) Call the function for n=5 and populate with random numbers between 1 and 100\n",
        "arrayofrandoms = generate_3d_array(5, \"random\")\n",
        "print(arrayofrandoms)"
      ],
      "metadata": {
        "colab": {
          "base_uri": "https://localhost:8080/"
        },
        "id": "7q-sV6oaCpNH",
        "outputId": "06c3c500-ca8d-4eed-f168-47ab7fe13988"
      },
      "execution_count": 12,
      "outputs": [
        {
          "output_type": "stream",
          "name": "stdout",
          "text": [
            "[[[64 10 83]\n",
            "  [24 25  2]\n",
            "  [48 51 64]]\n",
            "\n",
            " [[48 46 40]\n",
            "  [ 8 32  7]\n",
            "  [21 35 37]]\n",
            "\n",
            " [[74 43 78]\n",
            "  [94 29 94]\n",
            "  [ 1  3 83]]\n",
            "\n",
            " [[ 6  7 64]\n",
            "  [36 89 76]\n",
            "  [ 6 27 67]]\n",
            "\n",
            " [[97 94 67]\n",
            "  [62 93 31]\n",
            "  [67 20 19]]]\n"
          ]
        }
      ]
    },
    {
      "cell_type": "markdown",
      "source": [
        "***Problem 5***\n"
      ],
      "metadata": {
        "id": "a7Ybx9nY7PYR"
      }
    },
    {
      "cell_type": "code",
      "source": [
        "# (a) Plot the function in the range of x from -5 to 5\n",
        "\n",
        "def func(x):\n",
        "    return 0.1 * x**3 - x**2 + 5\n",
        "\n",
        "# x values from -5 to 5\n",
        "x = np.linspace(-5, 5, 50)\n",
        "y = func(x)\n",
        "\n",
        "plt.plot(x, y, label=\"y = 0.1x^3 - x^2 + 5\", color='purple')\n",
        "plt.xlabel(\"X\")\n",
        "plt.ylabel(\"Y\")\n",
        "plt.title(\"Plot of y = 0.1x^3 - x^2 + 5\")\n",
        "plt.legend()\n",
        "plt.show()\n"
      ],
      "metadata": {
        "colab": {
          "base_uri": "https://localhost:8080/",
          "height": 472
        },
        "id": "Xa9nDfCm7OlK",
        "outputId": "9c008209-155e-4c4b-91fe-3413520ec5f3"
      },
      "execution_count": 13,
      "outputs": [
        {
          "output_type": "display_data",
          "data": {
            "text/plain": [
              "<Figure size 640x480 with 1 Axes>"
            ],
            "image/png": "[encoded data removed]"
          },
          "metadata": {}
        }
      ]
    },
    {
      "cell_type": "code",
      "source": [
        "# (b) plotting the minimum and maximum values\n",
        "y_min = min(y)\n",
        "y_max = max(y)\n",
        "x_min = x[np.argmin(y)]\n",
        "x_max = x[np.argmax(y)]\n",
        "\n",
        "plt.scatter([x_min, x_max], [y_min, y_max], color='yellow')\n",
        "plt.text(x_min, y_min, f\"Min\", verticalalignment='bottom')\n",
        "plt.text(x_max, y_max, f\"Max\", verticalalignment='bottom')\n",
        "\n",
        "plt.plot(x, y, label=\"y = 0.1x^3 - x^2 + 5\", color='purple')\n",
        "plt.xlabel('x')\n",
        "plt.ylabel('y')\n",
        "plt.title('Plot of y = 0.1x^3 - x^2 + 5')\n",
        "plt.legend()\n",
        "plt.show()"
      ],
      "metadata": {
        "colab": {
          "base_uri": "https://localhost:8080/",
          "height": 472
        },
        "id": "kY1TBOTg9T_f",
        "outputId": "a4a0c2ea-0cb9-4ca7-885a-147166c7d037"
      },
      "execution_count": 14,
      "outputs": [
        {
          "output_type": "display_data",
          "data": {
            "text/plain": [
              "<Figure size 640x480 with 1 Axes>"
            ],
            "image/png": "[encoded data removed]"
          },
          "metadata": {}
        }
      ]
    }
  ],
  "metadata": {
    "kernelspec": {
      "display_name": "base",
      "language": "python",
      "name": "python3"
    },
    "language_info": {
      "codemirror_mode": {
        "name": "ipython",
        "version": 3
      },
      "file_extension": ".py",
      "mimetype": "text/x-python",
      "name": "python",
      "nbconvert_exporter": "python",
      "pygments_lexer": "ipython3",
      "version": "3.11.4"
    },
    "colab": {
      "provenance": []
    }
  },
  "nbformat": 4,
  "nbformat_minor": 0
}